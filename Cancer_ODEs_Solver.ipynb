{
 "cells": [
  {
   "cell_type": "code",
   "execution_count": 145,
   "metadata": {},
   "outputs": [],
   "source": [
    "import numpy as np\n",
    "from scipy.integrate import odeint\n",
    "import matplotlib.pyplot as plt"
   ]
  },
  {
   "cell_type": "code",
   "execution_count": 164,
   "metadata": {},
   "outputs": [],
   "source": [
    "def vectorfield(w, t, parameters):\n",
    "    \"\"\"\n",
    "    Arguments:\n",
    "        w :  vector of the state variables:\n",
    "                  w = [x1,y1,x2,y2]\n",
    "        t :  time\n",
    "        p :  vector of the parameters:\n",
    "                  p = [m1,m2,k1,k2,L1,L2,b1,b2]\n",
    "    \"\"\"\n",
    "    T, N, L, C, M, I = w\n",
    "    a, b, c, KT, delT, e_f, f, P, pN, gN, KN, delN, m, theta, q, r1, r2, pI, gI, u, kappa, j, k, KL, delL, alpha_beta, beta, KC, delC, gamma, muI, omega, phi, zeta, d, l, s, vL_t, vM_t, vI_t = parameters\n",
    "    D = d*(L/T)**l/(s+(L/T))**l\n",
    "    dTdt = a*T*(1-b*T) - c*N*T - D*T - KT*(1-np.exp(-delT*M))*T\n",
    "    dNdt = f*(e_f*C - N) - pN*T + (pN*N*I)/(gN+I) - KN*(1-np.exp(-delN*M))*N\n",
    "    dLdt = theta*m*L/(theta+I) + j*T*L/(k+T) - q*L*T + (r1*N + r2*C)*T - u*L**2*C*I/(kappa+I) - KL*(1 - np.exp(-delL*M))*L + pI*L*I/(gI+I) + vL_t\n",
    "    dCdt = beta*(alpha_beta - C) - KC*(1-np.exp(-delC*M))*C\n",
    "    dMdt = -gamma*M + vM_t\n",
    "    dIdt = -muI*I + phi*C + omega*L*I/(zeta+I) + vI_t\n",
    "    f = [dTdt, dNdt, dLdt, dCdt, dMdt, dIdt]\n",
    "    return f"
   ]
  },
  {
   "cell_type": "code",
   "execution_count": 199,
   "metadata": {},
   "outputs": [],
   "source": [
    "T = 9.8039*10**8 #\n",
    "N = 2.5*10**8 #\n",
    "L = 5.268*10**5 #\n",
    "C = 2.25*10**9 #\n",
    "M = 0 #\n",
    "I = 1073 #\n",
    "\n",
    "w = [T, N, L, C, M, I]"
   ]
  },
  {
   "cell_type": "code",
   "execution_count": 200,
   "metadata": {},
   "outputs": [],
   "source": [
    "a = 4.31*10**-1 #\n",
    "b = 1.02*10**-9 #\n",
    "c = 2.9077*10**-13 #\n",
    "KT = 9*10**-1 #\n",
    "delT = 1.8328 #\n",
    "e_f = 1.11*10**-1 #\n",
    "f = 1.25*10**-2 #\n",
    "P = 2.794*10**-13 #\n",
    "pN = 6.68*10**-2 #\n",
    "gN = 2.5036*10**5 #\n",
    "KN = 6.75*10**-2 #\n",
    "delN = 1.8328 #\n",
    "m = 9*10**-3 #\n",
    "theta = 2.5036*10**-3 #\n",
    "q = 3.422*10**-10 #\n",
    "r1 = 2.9077*10**-11 #\n",
    "r2 = 5.8467*10**-13 #\n",
    "pI = 2.971 #\n",
    "gI = 2.5036*10**3 #\n",
    "u = 4.417*10**-14 #\n",
    "kappa = 2.5036*10**3 #\n",
    "j = 1.245*10**-2 #\n",
    "k = 2.019*10**7 #\n",
    "KL = 4.86*10**-2 #\n",
    "delL = 1.8328 #\n",
    "alpha_beta = 2.25*10**-1 #\n",
    "beta = 6.3*10**-3 #\n",
    "KC = 3.4*10**-2 #\n",
    "delC = 1.8328 #\n",
    "gamma = 5.199*10**-1 #\n",
    "muI = 11.7427 #\n",
    "omega = 7.874*10**-2 #\n",
    "phi = 2.38405*10**-7 #\n",
    "zeta = 2.5036*10**3 #\n",
    "\n",
    "# patient 9\n",
    "d9 = 2.34 #\n",
    "l9 = 2.09 #\n",
    "s9 = 3.8*10**-3 #\n",
    "\n",
    "# patient 10\n",
    "d10 = 1.88 #\n",
    "l10 = 1.81 #\n",
    "s10 = 3.5*10**-2 #\n",
    "\n",
    "vL_t = 1.77*10**10 #\n",
    "vM_t = 2.3869 #\n",
    "vI_t = 2.7859*10**6 #"
   ]
  },
  {
   "cell_type": "code",
   "execution_count": 201,
   "metadata": {},
   "outputs": [],
   "source": [
    "parameters_9 = [a, b, c, KT, delT, e_f, f, P, pN, gN, KN, delN, m, theta, q, r1, r2, pI, gI, u, kappa, j, k, KL, delL, alpha_beta, beta, KC, delC, gamma, muI, omega, phi, zeta, d9, l9, s9, vL_t, vM_t, vI_t]\n",
    "parameters_10 = [a, b, c, KT, delT, e_f, f, P, pN, gN, KN, delN, m, theta, q, r1, r2, pI, gI, u, kappa, j, k, KL, delL, alpha_beta, beta, KC, delC, gamma, muI, omega, phi, zeta, d10, l10, s10, vL_t, vM_t, vI_t]"
   ]
  },
  {
   "cell_type": "code",
   "execution_count": 217,
   "metadata": {},
   "outputs": [],
   "source": [
    "# ODE solver parameters\n",
    "abserr = 1.0e-9\n",
    "relerr = 1.0e-7\n",
    "stoptime = 200\n",
    "numpoints = 20000"
   ]
  },
  {
   "cell_type": "code",
   "execution_count": 218,
   "metadata": {},
   "outputs": [
    {
     "name": "stderr",
     "output_type": "stream",
     "text": [
      "C:\\Users\\N8\\AppData\\Local\\Temp/ipykernel_17284/1794534451.py:12: RuntimeWarning: invalid value encountered in double_scalars\n",
      "  D = d*(L/T)**l/(s+(L/T))**l\n"
     ]
    }
   ],
   "source": [
    "t = [stoptime * float(i) / (numpoints - 1) for i in range(numpoints)]\n",
    "\n",
    "# Call the ODE solver.\n",
    "wsol = odeint(vectorfield, w, t, args=(parameters_10,),\n",
    "              atol=abserr, rtol=relerr)"
   ]
  },
  {
   "cell_type": "code",
   "execution_count": 219,
   "metadata": {},
   "outputs": [
    {
     "name": "stdout",
     "output_type": "stream",
     "text": [
      "[[9.80390000e+08 2.50000000e+08 5.26800000e+05 2.25000000e+09\n",
      "  0.00000000e+00 1.07300000e+03]\n",
      " [9.78276573e+08 2.49353328e+08 1.38377760e+07 2.24984178e+09\n",
      "  2.38082472e-02 3.59035210e+04]\n",
      " [9.75828439e+08 2.48718646e+08 1.36109376e+07 2.24965170e+09\n",
      "  4.74930305e-02 6.79154164e+04]\n",
      " ...\n",
      " [           nan            nan            nan            nan\n",
      "             nan            nan]\n",
      " [           nan            nan            nan            nan\n",
      "             nan            nan]\n",
      " [           nan            nan            nan            nan\n",
      "             nan            nan]]\n"
     ]
    }
   ],
   "source": [
    "print(wsol)"
   ]
  },
  {
   "cell_type": "code",
   "execution_count": 220,
   "metadata": {},
   "outputs": [],
   "source": [
    "T_res = []\n",
    "N_res = []\n",
    "L_res = []\n",
    "C_res = []\n",
    "M_res = []\n",
    "I_res = []\n",
    "\n",
    "for i in wsol:\n",
    "    T_res.append(i[0])\n",
    "    N_res.append(i[1])\n",
    "    L_res.append(i[2])\n",
    "    C_res.append(i[3])\n",
    "    M_res.append(i[4])\n",
    "    I_res.append(i[5])"
   ]
  },
  {
   "cell_type": "code",
   "execution_count": 238,
   "metadata": {},
   "outputs": [
    {
     "data": {
      "image/png": "[encoded data removed]",
      "text/plain": [
       "<Figure size 432x288 with 1 Axes>"
      ]
     },
     "metadata": {
      "needs_background": "light"
     },
     "output_type": "display_data"
    }
   ],
   "source": [
    "plt.scatter(t, T_res, marker='.', color='blue')\n",
    "plt.scatter(t, N_res, marker='.', color='green')\n",
    "plt.scatter(t, L_res, marker='.', color='red')\n",
    "plt.scatter(t, C_res, marker='.', color='teal')\n",
    "plt.scatter(t, M_res, marker='.', color='purple')\n",
    "plt.scatter(t, I_res, marker='.', color='gold')\n",
    "plt.yscale(\"log\")\n",
    "plt.ylim(1,10**12)\n",
    "plt.xlabel(\"Time (days)\")\n",
    "plt.ylabel(\"States (Log Scale)\")\n",
    "plt.legend(['Tumor Cells', 'Natural Killer Cells', 'CD8*T Cells', 'Circulating Lymphocytes (cells)','Medicine (mg)','IL-2 (IU)'],loc='upper right')\n"
   ]
  },
  {
   "cell_type": "code",
   "execution_count": null,
   "metadata": {},
   "outputs": [],
   "source": []
  },
  {
   "cell_type": "code",
   "execution_count": null,
   "metadata": {},
   "outputs": [],
   "source": []
  },
  {
   "cell_type": "code",
   "execution_count": null,
   "metadata": {},
   "outputs": [],
   "source": []
  }
 ],
 "metadata": {
  "kernelspec": {
   "display_name": "Python 3.9.7 64-bit",
   "language": "python",
   "name": "python3"
  },
  "language_info": {
   "codemirror_mode": {
    "name": "ipython",
    "version": 3
   },
   "file_extension": ".py",
   "mimetype": "text/x-python",
   "name": "python",
   "nbconvert_exporter": "python",
   "pygments_lexer": "ipython3",
   "version": "3.9.7"
  },
  "orig_nbformat": 4,
  "vscode": {
   "interpreter": {
    "hash": "01616ff52eb09d80d2c194ee0788bfe61632e64d41abd21b7381b13571130308"
   }
  }
 },
 "nbformat": 4,
 "nbformat_minor": 2
}
