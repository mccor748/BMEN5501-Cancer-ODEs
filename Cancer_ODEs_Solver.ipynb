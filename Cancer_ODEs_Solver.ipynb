{
 "cells": [
  {
   "cell_type": "code",
   "execution_count": 2,
   "metadata": {},
   "outputs": [],
   "source": [
    "import numpy as np\n",
    "from scipy.integrate import odeint"
   ]
  },
  {
   "cell_type": "code",
   "execution_count": 28,
   "metadata": {},
   "outputs": [],
   "source": [
    "def vectorfield(w, t, parameters):\n",
    "    \"\"\"\n",
    "    Arguments:\n",
    "        w :  vector of the state variables:\n",
    "                  w = [x1,y1,x2,y2]\n",
    "        t :  time\n",
    "        p :  vector of the parameters:\n",
    "                  p = [m1,m2,k1,k2,L1,L2,b1,b2]\n",
    "    \"\"\"\n",
    "    T, N, L, C, M, I = w\n",
    "    a, b, c, KT, delT, e_f, f, P, pN, gN, KN, delN, m, theta, q, r1, r2, pI, gI, u, kappa, j, k, KL, delL, alpha_beta, beta, KC, delC, gamma, muI, omega, phi, zeta, d, l, s, vL_t, vM_t, vI_t = parameters\n",
    "    D = d*(L/T)**l/(s+(L/T))**l\n",
    "    dTdt = a*T*(1-b*T) - c*N*T - D*T - KT*(1-np.exp(-delT*M))*T\n",
    "    dNdt = f*(e_f*C - N) - pN*T + (pN*N*I)/(gN+I) - KN*(1-np.exp(-delN*M))*N\n",
    "    dLdt = theta*m*L/(theta+I) + j*T*L/(k+T) - q*L*T + (r1*N + r2*C)*T - u*L*C*I/(kappa+I) - KL*(1 - np.exp(-delL*M))*L + pI*L*I/(gI+I) + vL_t\n",
    "    dCdt = beta*(alpha_beta - C) - KC*(1-np.exp(-delC*M))*C\n",
    "    dMdt = -gamma*M + vM_t\n",
    "    dIdt = -muI*I + phi*C + omega*L*I/(zeta+I) + vI_t\n",
    "    f = [dTdt, dNdt, dLdt, dCdt, dMdt, dIdt]\n",
    "    return f"
   ]
  },
  {
   "cell_type": "code",
   "execution_count": 29,
   "metadata": {},
   "outputs": [],
   "source": [
    "T = 9.8039*10**8\n",
    "N = 2.5*10**8\n",
    "L = 5.268*10**5\n",
    "C = 2.25*10**9\n",
    "M = 0\n",
    "I = 1073\n",
    "\n",
    "w = [T, N, L, C, M, I]"
   ]
  },
  {
   "cell_type": "code",
   "execution_count": 30,
   "metadata": {},
   "outputs": [],
   "source": [
    "a = 4.31*10**-1\n",
    "b = 1.02*10**-9\n",
    "c = 2.9077*10**-13\n",
    "KT = 9*10**-1\n",
    "delT = 1.8328\n",
    "e_f = 1.11*10**-1\n",
    "f = 1.25*10**-2\n",
    "P = 2.797*10**-13\n",
    "pN = 6.68*10**-2\n",
    "gN = 2.5036*10**5\n",
    "KN = 6.75*10**-2\n",
    "delN = 1.8328\n",
    "m = 9*10**-3\n",
    "theta = 2.5036*10**-3\n",
    "q = 3.422*10**-10\n",
    "r1 = 2.9077*10**-11\n",
    "r2 = 5.8467*10**-13\n",
    "pI = 2.971\n",
    "gI = 2.5036*10**3\n",
    "u = 4.417*10**-14\n",
    "kappa = 2.5036*10**3\n",
    "j = 1.245*10**-2\n",
    "k = 2.019*10**7\n",
    "KL = 4.86*10**-2\n",
    "delL = 1.8328\n",
    "alpha_beta = 2.25*10**-1\n",
    "beta = 6.3*10**-3\n",
    "KC = 3.4*10**-2\n",
    "delC = 1.8328\n",
    "gamma = 5.199*10**-1\n",
    "muI = 11.7427\n",
    "omega = 7.874*10**-2\n",
    "phi = 2.38405*10**-7\n",
    "zeta = 2.5036*10**3\n",
    "\n",
    "# patient 9\n",
    "d9 = 2.34\n",
    "l9 = 2.09\n",
    "s9 = 3.8*10**-3\n",
    "\n",
    "# patient 10\n",
    "d10 = 1.88\n",
    "l10 = 1.81\n",
    "s10 = 3.5*10**-2\n",
    "\n",
    "vL_t = 1.7*10**10\n",
    "vM_t = 2.3869\n",
    "vI_t = 2.7859*10**6"
   ]
  },
  {
   "cell_type": "code",
   "execution_count": 31,
   "metadata": {},
   "outputs": [],
   "source": [
    "parameters_9 = [a, b, c, KT, delT, e_f, f, P, pN, gN, KN, delN, m, theta, q, r1, r2, pI, gI, u, kappa, j, k, KL, delL, alpha_beta, beta, KC, delC, gamma, muI, omega, phi, zeta, d9, l9, s9, vL_t, vM_t, vI_t]\n",
    "parameters_10 = [a, b, c, KT, delT, e_f, f, P, pN, gN, KN, delN, m, theta, q, r1, r2, pI, gI, u, kappa, j, k, KL, delL, alpha_beta, beta, KC, delC, gamma, muI, omega, phi, zeta, d10, l10, s10, vL_t, vM_t, vI_t]"
   ]
  },
  {
   "cell_type": "code",
   "execution_count": 32,
   "metadata": {},
   "outputs": [],
   "source": [
    "# ODE solver parameters\n",
    "abserr = 1.0e-8\n",
    "relerr = 1.0e-6\n",
    "stoptime = 10.0\n",
    "numpoints = 250"
   ]
  },
  {
   "cell_type": "code",
   "execution_count": 34,
   "metadata": {},
   "outputs": [],
   "source": [
    "t = [stoptime * float(i) / (numpoints - 1) for i in range(numpoints)]\n",
    "\n",
    "# Call the ODE solver.\n",
    "wsol = odeint(vectorfield, w, t, args=(parameters_9,),\n",
    "              atol=abserr, rtol=relerr)"
   ]
  },
  {
   "cell_type": "code",
   "execution_count": 35,
   "metadata": {},
   "outputs": [
    {
     "name": "stdout",
     "output_type": "stream",
     "text": [
      "[[9.80390000e+08 2.50000000e+08 5.26800000e+05 2.25000000e+09\n",
      "  0.00000000e+00 1.07300000e+03]\n",
      " [8.94755247e+08 2.47747821e+08 7.21021208e+08 2.24917776e+09\n",
      "  9.48656172e-02 1.04575878e+06]\n",
      " [8.10144869e+08 2.45899639e+08 1.52399825e+09 2.24791042e+09\n",
      "  1.87771021e-01 3.62954425e+06]\n",
      " ...\n",
      " [8.44856099e-04 2.24976973e+08 2.16155621e+22 1.52239465e+09\n",
      "  4.56464180e+00 1.16058934e+20]\n",
      " [7.54730576e-04 2.24942622e+08 2.43073019e+22 1.51993317e+09\n",
      "  4.56518800e+00 1.30511504e+20]\n",
      " [6.74219170e-04 2.24908153e+08 2.73342411e+22 1.51747567e+09\n",
      "  4.56572291e+00 1.46763837e+20]]\n"
     ]
    }
   ],
   "source": [
    "print(wsol)"
   ]
  },
  {
   "cell_type": "code",
   "execution_count": null,
   "metadata": {},
   "outputs": [],
   "source": []
  }
 ],
 "metadata": {
  "kernelspec": {
   "display_name": "Python 3.9.7 64-bit",
   "language": "python",
   "name": "python3"
  },
  "language_info": {
   "codemirror_mode": {
    "name": "ipython",
    "version": 3
   },
   "file_extension": ".py",
   "mimetype": "text/x-python",
   "name": "python",
   "nbconvert_exporter": "python",
   "pygments_lexer": "ipython3",
   "version": "3.9.7"
  },
  "orig_nbformat": 4,
  "vscode": {
   "interpreter": {
    "hash": "01616ff52eb09d80d2c194ee0788bfe61632e64d41abd21b7381b13571130308"
   }
  }
 },
 "nbformat": 4,
 "nbformat_minor": 2
}
